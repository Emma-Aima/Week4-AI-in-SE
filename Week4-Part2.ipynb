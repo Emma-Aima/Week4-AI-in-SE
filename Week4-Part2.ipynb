{
 "cells": [
  {
   "cell_type": "code",
   "execution_count": null,
   "id": "0eb29857-0c00-4e5d-b784-155819949df7",
   "metadata": {},
   "outputs": [],
   "source": [
    "## AI Suggested Code (GitHub Copilot)\n",
    "def sort_list_of_dicts(list_of_dicts, key):\n",
    "    return sorted(list_of_dicts, key=lambda x: x[key])"
   ]
  },
  {
   "cell_type": "markdown",
   "id": "c4786792-f98d-4e55-b280-6518485771b4",
   "metadata": {},
   "source": [
    "Explanation:\r",
    "1. \n",
    "Uses Python's built-in sorted() with a lambda function to extract the sorting key\r",
    "2. \n",
    "\r\n",
    "Clean and concise, leveraging Pythonic idioms."
   ]
  },
  {
   "cell_type": "code",
   "execution_count": 2,
   "id": "4d6667d5-de87-481f-b5ed-27b429c70337",
   "metadata": {},
   "outputs": [],
   "source": [
    "## Manual Implementation\n",
    "def sort_list_of_dicts_manual(list_of_dicts, key):\n",
    "    for i in range(len(list_of_dicts)):\n",
    "        for j in range(i + 1, len(list_of_dicts)):\n",
    "            if list_of_dicts[i][key] > list_of_dicts[j][key]:\n",
    "                list_of_dicts[i], list_of_dicts[j] = list_of_dicts[j], list_of_dicts[i]\n",
    "    return list_of_dicts"
   ]
  },
  {
   "cell_type": "markdown",
   "id": "0f5dc2a6-7339-4134-938a-24fb0286c524",
   "metadata": {},
   "source": [
    "Explanation:\r",
    "1. \n",
    "Implements a bubble sort (inefficient for large datasets).2. \n",
    "\r\n",
    "More verbose and slower (O(n²) time complexity)."
   ]
  },
  {
   "cell_type": "markdown",
   "id": "1250e851-c2da-4cc5-addf-01062148e02d",
   "metadata": {},
   "source": [
    "** Efficiency Comparison **\r\n",
    "The AI-suggested version is significantly more efficient because:\r\n",
    "\r\n",
    "Time Complexit1. :\r\n",
    "\r\n",
    "AI: Uses Python’s sorted() (Timsort, O(n log n) average/worst-ca2. e).\r\n",
    "\r\n",
    "Manual: Bubble sort (O(n²) worst-case).\r\n",
    "\r\n",
    "Readability & Maintain1. bility:\r\n",
    "\r\n",
    "AI’s one-liner is Pythonic and easier to u2. derstand.\r\n",
    "\r\n",
    "Manual implementation is error-prone and harder to debug.\r\n",
    "\r\n",
    "Conclusion:\r\n",
    "The AI-generated solution is faster and cleaner, making it the better choice for production code. The manual version, while educational, is inefficient for real-world use."
   ]
  },
  {
   "cell_type": "code",
   "execution_count": null,
   "id": "9e4187df-42b8-4cc4-b491-5d05f2205517",
   "metadata": {},
   "outputs": [],
   "source": []
  }
 ],
 "metadata": {
  "kernelspec": {
   "display_name": "anaconda-2024.02-py310",
   "language": "python",
   "name": "conda-env-anaconda-2024.02-py310-py"
  },
  "language_info": {
   "codemirror_mode": {
    "name": "ipython",
    "version": 3
   },
   "file_extension": ".py",
   "mimetype": "text/x-python",
   "name": "python",
   "nbconvert_exporter": "python",
   "pygments_lexer": "ipython3",
   "version": "3.10.14"
  }
 },
 "nbformat": 4,
 "nbformat_minor": 5
}
